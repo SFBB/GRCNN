{
 "cells": [
  {
   "cell_type": "code",
   "execution_count": 2,
   "id": "cd7774d7",
   "metadata": {},
   "outputs": [],
   "source": [
    "import numpy as np\n",
    "import matplotlib.pyplot as plt\n",
    "import sklearn\n",
    "from scipy import signal\n",
    "import soundfile as sf\n",
    "import os"
   ]
  },
  {
   "cell_type": "code",
   "execution_count": 3,
   "id": "bcfb8155",
   "metadata": {},
   "outputs": [
    {
     "name": "stdout",
     "output_type": "stream",
     "text": [
      "(26, 1, 96000)\n"
     ]
    }
   ],
   "source": [
    "scp = np.loadtxt(\"dev_as_test.lst\", dtype=str)\n",
    "def read_data(path):\n",
    "    speech, _ = sf.read(path)\n",
    "#     print(_)\n",
    "    data = np.reshape(speech, [1, -1])\n",
    "    if data.shape[1] % 96000:\n",
    "        if data.shape[1] * 2 < 96000:\n",
    "            data = np.tile(data, (1, 96000 // data.shape[1]))\n",
    "        data = np.hstack([data, data[:, :96000 - data.shape[1] % 96000]])\n",
    "    data = np.split(data, data.shape[1] / 96000, axis=1)\n",
    "    data = np.array(data, dtype=np.float32)\n",
    "    return data\n",
    "#     print(data.shape)\n",
    "\n",
    "scp = [\"LA_D_1000265.flac\", \"LA_D_3262859.flac\",  \"LA_D_3266246.flac\", \"LA_D_3267906.flac\", \"LA_D_3260017.flac\", \"LA_D_3263334.flac\", \"LA_D_3266332.flac\", \"LA_D_3268182.flac\", \"LA_D_3260123.flac\", \"LA_D_3263579.flac\",  \"LA_D_3266553.flac\", \"LA_D_3268836.flac\", \"LA_D_3260640.flac\", \"LA_D_3263795.flac\", \"LA_D_3266637.flac\", \"LA_D_3269593.flac\", \"LA_D_3260902.flac\", \"LA_D_3264000.flac\", \"LA_D_3266852.flac\", \"LA_D_3261219.flac\", \"LA_D_3264696.flac\", \"LA_D_3267050.flac\", \"LA_D_3262004.flac\", \"LA_D_3264952.flac\", \"LA_D_3267875.flac\"]\n",
    "scp_ = []\n",
    "for scp__ in scp:\n",
    "    scp_.append(os.path.join(\"wav\", scp__))\n",
    "scp = scp_\n",
    "del scp_\n",
    "# print(scp)\n",
    "test_data = []\n",
    "for i in scp:\n",
    "    test_data.append(read_data(i))\n",
    "\n",
    "test_frame_num = len(test_data)\n",
    "test_data = np.concatenate(test_data, axis=0)\n",
    "\n",
    "# test_data, scp as test names, test_frame_num\n",
    "# print(test_data)\n",
    "print(test_data.shape)"
   ]
  },
  {
   "cell_type": "code",
   "execution_count": 4,
   "id": "c3987ea3",
   "metadata": {},
   "outputs": [
    {
     "name": "stdout",
     "output_type": "stream",
     "text": [
      "(240, 2)\n",
      "[1. 0.]\n"
     ]
    }
   ],
   "source": [
    "genuine_labels = np.zeros((120, 2), dtype=np.float32)\n",
    "spoof_labels = np.zeros((120, 2), dtype=np.float32)\n",
    "\n",
    "genuine_labels[:, 0] = 1.0 # [1, 0]\n",
    "spoof_labels[:, 1] = 1.0 # [0, 1]\n",
    "\n",
    "labels = np.concatenate((genuine_labels, spoof_labels), axis=0)\n",
    "\n",
    "print(labels.shape)\n",
    "print(labels[0])"
   ]
  },
  {
   "cell_type": "code",
   "execution_count": 5,
   "id": "6125d881",
   "metadata": {},
   "outputs": [
    {
     "name": "stdout",
     "output_type": "stream",
     "text": [
      "(26, 1, 96000)\n"
     ]
    }
   ],
   "source": [
    "print(test_data.shape)\n",
    "inputs = np.reshape(test_data, [26, 1, 96000]).shape"
   ]
  },
  {
   "cell_type": "code",
   "execution_count": 6,
   "id": "2fd377fb",
   "metadata": {},
   "outputs": [
    {
     "name": "stdout",
     "output_type": "stream",
     "text": [
      "[0. 0. 0. 0. 0. 0. 0. 0. 0. 0.]\n"
     ]
    }
   ],
   "source": [
    "a = np.zeros(10)\n",
    "print(a)"
   ]
  },
  {
   "cell_type": "code",
   "execution_count": 7,
   "id": "f0d77518",
   "metadata": {},
   "outputs": [],
   "source": [
    "import torch"
   ]
  },
  {
   "cell_type": "code",
   "execution_count": 8,
   "id": "b1044170",
   "metadata": {},
   "outputs": [],
   "source": [
    "input = torch.randn(64, 256, 31)"
   ]
  },
  {
   "cell_type": "code",
   "execution_count": 9,
   "id": "6ab4cf34",
   "metadata": {},
   "outputs": [
    {
     "name": "stdout",
     "output_type": "stream",
     "text": [
      "torch.Size([64, 86, 10])\n",
      "torch.Size([64, 86, 10])\n",
      "torch.Size([128, 86, 10])\n"
     ]
    },
    {
     "name": "stderr",
     "output_type": "stream",
     "text": [
      "/home/tomtony/.local/lib/python3.8/site-packages/torch/nn/functional.py:652: UserWarning: Named tensors and all their associated APIs are an experimental feature and subject to change. Please do not use them for anything important until they are released as stable. (Triggered internally at  /pytorch/c10/core/TensorImpl.h:1156.)\n",
      "  return torch.max_pool1d(input, kernel_size, stride, padding, dilation, ceil_mode)\n"
     ]
    }
   ],
   "source": [
    "# print(input.shape)\n",
    "conv1 =  torch.nn.Conv1d(256, 86, 9, stride=2, dilation=2, padding=2)\n",
    "output = conv1(input)\n",
    "print(output.shape)\n",
    "\n",
    "# output = output[:,:,:10]\n",
    "# noise_means = torch.randn(64, 86, 10)\n",
    "# output_l = output[:,:,output.shape[2]-10:]\n",
    "# print(type(output))\n",
    "# output = torch.cat((output, noise_means), 0)\n",
    "print(output.shape)\n",
    "\n",
    "pool1 = torch.nn.MaxPool1d(3, stride=1, dilation=1, padding=1)\n",
    "output = pool1(output)\n",
    "# print(output.shape)\n",
    "output = torch.cat((output, output), 0)\n",
    "print(output.shape)"
   ]
  },
  {
   "cell_type": "code",
   "execution_count": 10,
   "id": "f201f804",
   "metadata": {},
   "outputs": [
    {
     "name": "stdout",
     "output_type": "stream",
     "text": [
      "torch.Size([128, 29, 3])\n",
      "torch.Size([128, 29, 1])\n"
     ]
    }
   ],
   "source": [
    "conv2 = torch.nn.Conv1d(86, 29, 4, stride=2, dilation=2, padding=1)\n",
    "output_ = conv2(output)\n",
    "print(output_.shape)\n",
    "pool2 = torch.nn.MaxPool1d(3,stride=1)\n",
    "output__ = pool2(output_)\n",
    "print(output__.shape)"
   ]
  },
  {
   "cell_type": "code",
   "execution_count": 11,
   "id": "88fa45e9",
   "metadata": {},
   "outputs": [],
   "source": [
    "import torchaudio\n",
    "# import os\n",
    "# # print(os.path.abspath(os.getcwd()))\n",
    "# # waveform, sample_rate = torchaudio.load(\"/mnt/c/Users/YH-ANZHE/D1_1002601.wav\")\n",
    "# waveform = test_data[0]\n",
    "# sample_rate = 16000\n",
    "# print(waveform.shape, sample_rate)\n",
    "# stft_result = torch.stft(waveform[:,10:], sample_rate, win_length=10)\n",
    "# print(stft_result.shape)"
   ]
  },
  {
   "cell_type": "code",
   "execution_count": 68,
   "id": "3ca3409c",
   "metadata": {},
   "outputs": [
    {
     "name": "stdout",
     "output_type": "stream",
     "text": [
      "96000\n",
      "(513, 601)\n"
     ]
    },
    {
     "data": {
      "image/png": "[encoded data removed]",
      "text/plain": [
       "<Figure size 432x288 with 2 Axes>"
      ]
     },
     "metadata": {
      "needs_background": "light"
     },
     "output_type": "display_data"
    }
   ],
   "source": [
    "waveform = test_data[0]\n",
    "sample_rate = 16000\n",
    "import librosa\n",
    "import math\n",
    "\n",
    "\n",
    "def extract_features(waveform, sample_rate):\n",
    "    # print(waveform.numpy())\n",
    "    print(len(waveform[0]))\n",
    "    n_fft = 1024\n",
    "    win_length = int(np.ceil(0.025*sample_rate))\n",
    "    hop_length = int(np.ceil(0.010*sample_rate))\n",
    "    window = \"hamming\"\n",
    "\n",
    "    n_mels = 256\n",
    "    fmin = 20\n",
    "    fmax = 8000\n",
    "    X = librosa.stft(waveform[0], n_fft, hop_length, win_length, window, center=True)\n",
    "#     print(np.abs(X).shape)\n",
    "    frames = np.log(librosa.feature.melspectrogram(y=waveform[0], sr=sample_rate, S=X, n_mels=n_mels, fmin=fmin, fmax=fmax) + 1e-6)\n",
    "    print(X.shape)\n",
    "\n",
    "\n",
    "\n",
    "\n",
    "#     noise=np.random.normal(0, 10, waveform.shape[1]).reshape(-1, waveform.shape[1])\n",
    "#     N = librosa.stft(noise[0], n_fft, hop_length, win_length, window, center=True)\n",
    "    \n",
    "# #     print(noise)\n",
    "#     SNM = 1/(1 + np.exp(-np.abs(X)/np.abs(N)))\n",
    "#     print(SNM.shape)\n",
    "#     print(frames.shape)\n",
    "#     frames = np.log(librosa.feature.melspectrogram(y=waveform[0]+noise[0], sr=sample_rate, S=SNM, n_mels=n_mels, fmin=fmin, fmax=fmax) + 1e-6)\n",
    "    \n",
    "\n",
    "\n",
    "\n",
    "\n",
    "    window_size = 31\n",
    "    window_hop = 31\n",
    "    start_frame = window_size \n",
    "    end_frame = window_hop * math.floor(float(frames.shape[1]) / window_hop/2)\n",
    "    window = frames[:, end_frame: end_frame+window_size]\n",
    "    \n",
    "    noises_features = np.mean(abs(frames[:, :10]), axis=1)\n",
    "    \n",
    "    return abs(window), noises_features\n",
    "\n",
    "\n",
    "window, noises_features = extract_features(waveform, sample_rate)\n",
    "\n",
    "# window_size = 31\n",
    "# window_hop = 31\n",
    "# start_frame = window_size \n",
    "# end_frame = window_hop * math.floor(float(frames.shape[1]) / window_hop/2)\n",
    "\n",
    "    \n",
    "    \n",
    "import matplotlib.pyplot as plt\n",
    "\n",
    "\n",
    "# inputs = []\n",
    "# window = frames[:, end_frame: end_frame+window_size]\n",
    "# assert window.shape == (n_mels, window_size)\n",
    "# inputs.append(abs(window))\n",
    "plt.imshow(window, cmap='jet', origin='lower', aspect='auto')\n",
    "plt.colorbar()\n",
    "plt.show()\n",
    "\n",
    "\n",
    "# noises = abs(frames[:, :10])\n",
    "# print(noises.shape)\n",
    "# noises_features = np.mean(noises, axis=1)\n",
    "# print(noises_features.shape)\n",
    "# for frame_idx in range(start_frame, end_frame, window_hop):\n",
    "\n",
    "#     window = frames[:, frame_idx-window_size:frame_idx]\n",
    "#     assert window.shape == (n_mels, window_size)\n",
    "#     print('classify window', frame_idx, window.shape)\n",
    "# #     print(window)\n",
    "#     inputs.append(abs(window))\n",
    "#     plt.imshow(abs(window), cmap='jet', origin='lower', aspect='auto')\n",
    "#     plt.colorbar()\n",
    "#     plt.show()"
   ]
  },
  {
   "cell_type": "code",
   "execution_count": 59,
   "id": "37df7e14",
   "metadata": {},
   "outputs": [
    {
     "ename": "ValueError",
     "evalue": "cannot reshape array of size 3 into shape (1,256,31)",
     "output_type": "error",
     "traceback": [
      "\u001b[0;31m---------------------------------------------------------------------------\u001b[0m",
      "\u001b[0;31mValueError\u001b[0m                                Traceback (most recent call last)",
      "\u001b[0;32m<ipython-input-59-b640ed646bb6>\u001b[0m in \u001b[0;36m<module>\u001b[0;34m\u001b[0m\n\u001b[1;32m     11\u001b[0m \u001b[0;34m\u001b[0m\u001b[0m\n\u001b[1;32m     12\u001b[0m \u001b[0minputs_\u001b[0m \u001b[0;34m=\u001b[0m \u001b[0mnp\u001b[0m\u001b[0;34m.\u001b[0m\u001b[0marray\u001b[0m\u001b[0;34m(\u001b[0m\u001b[0minputs\u001b[0m\u001b[0;34m)\u001b[0m\u001b[0;34m\u001b[0m\u001b[0;34m\u001b[0m\u001b[0m\n\u001b[0;32m---> 13\u001b[0;31m \u001b[0minputs_\u001b[0m \u001b[0;34m=\u001b[0m \u001b[0minputs_\u001b[0m\u001b[0;34m.\u001b[0m\u001b[0mreshape\u001b[0m\u001b[0;34m(\u001b[0m\u001b[0;34m-\u001b[0m\u001b[0;36m1\u001b[0m\u001b[0;34m,\u001b[0m \u001b[0;36m1\u001b[0m\u001b[0;34m,\u001b[0m \u001b[0;36m256\u001b[0m\u001b[0;34m,\u001b[0m \u001b[0;36m31\u001b[0m\u001b[0;34m)\u001b[0m\u001b[0;34m\u001b[0m\u001b[0;34m\u001b[0m\u001b[0m\n\u001b[0m\u001b[1;32m     14\u001b[0m \u001b[0;31m# print(inputs_.shape)\u001b[0m\u001b[0;34m\u001b[0m\u001b[0;34m\u001b[0m\u001b[0;34m\u001b[0m\u001b[0m\n\u001b[1;32m     15\u001b[0m \u001b[0minputs_\u001b[0m \u001b[0;34m=\u001b[0m \u001b[0mtorch\u001b[0m\u001b[0;34m.\u001b[0m\u001b[0mfrom_numpy\u001b[0m\u001b[0;34m(\u001b[0m\u001b[0minputs_\u001b[0m\u001b[0;34m)\u001b[0m\u001b[0;34m\u001b[0m\u001b[0;34m\u001b[0m\u001b[0m\n",
      "\u001b[0;31mValueError\u001b[0m: cannot reshape array of size 3 into shape (1,256,31)"
     ]
    }
   ],
   "source": [
    "from torch import nn\n",
    "\n",
    "cnn_layers = nn.Sequential(\n",
    "            nn.Conv2d(1, 64, (9,9), stride=(1, 1), padding='same'),\n",
    "            nn.Sigmoid(),\n",
    "            nn.MaxPool2d((3,3), stride=(3,3), ceil_mode=False),\n",
    "            nn.Conv2d(64, 128, (4,4), stride=(1,1), padding='same'),\n",
    "            nn.Sigmoid(),\n",
    "            nn.MaxPool2d((3,3), stride=(3, 3), ceil_mode=False),\n",
    "        )\n",
    "\n",
    "inputs_ = np.array(inputs)\n",
    "inputs_ = inputs_.reshape(-1, 1, 256, 31)\n",
    "# print(inputs_.shape)\n",
    "inputs_ = torch.from_numpy(inputs_)\n",
    "# print(inputs.shape)\n",
    "# inputs = torch.reshape(inputs, (11, 1, 256, -1))\n",
    "# print(torch.FloatTensor(inputs).shape)\n",
    "outputs = cnn_layers(torch.tensor(inputs_))\n",
    "\n",
    "print(outputs.shape)"
   ]
  },
  {
   "cell_type": "code",
   "execution_count": 60,
   "id": "bb35f1f6",
   "metadata": {},
   "outputs": [
    {
     "ename": "NameError",
     "evalue": "name 'outputs' is not defined",
     "output_type": "error",
     "traceback": [
      "\u001b[0;31m---------------------------------------------------------------------------\u001b[0m",
      "\u001b[0;31mNameError\u001b[0m                                 Traceback (most recent call last)",
      "\u001b[0;32m<ipython-input-60-3f2247eae348>\u001b[0m in \u001b[0;36m<module>\u001b[0;34m\u001b[0m\n\u001b[1;32m      5\u001b[0m     )\n\u001b[1;32m      6\u001b[0m \u001b[0;34m\u001b[0m\u001b[0m\n\u001b[0;32m----> 7\u001b[0;31m \u001b[0minputs__\u001b[0m \u001b[0;34m=\u001b[0m \u001b[0mtorch\u001b[0m\u001b[0;34m.\u001b[0m\u001b[0mcat\u001b[0m\u001b[0;34m(\u001b[0m\u001b[0;34m(\u001b[0m\u001b[0moutputs\u001b[0m\u001b[0;34m[\u001b[0m\u001b[0;36m0\u001b[0m\u001b[0;34m]\u001b[0m\u001b[0;34m.\u001b[0m\u001b[0mflatten\u001b[0m\u001b[0;34m(\u001b[0m\u001b[0;34m)\u001b[0m\u001b[0;34m,\u001b[0m \u001b[0mtorch\u001b[0m\u001b[0;34m.\u001b[0m\u001b[0mfrom_numpy\u001b[0m\u001b[0;34m(\u001b[0m\u001b[0mnoises_features\u001b[0m\u001b[0;34m)\u001b[0m\u001b[0;34m.\u001b[0m\u001b[0mflatten\u001b[0m\u001b[0;34m(\u001b[0m\u001b[0;34m)\u001b[0m\u001b[0;34m)\u001b[0m\u001b[0;34m)\u001b[0m\u001b[0;34m\u001b[0m\u001b[0;34m\u001b[0m\u001b[0m\n\u001b[0m\u001b[1;32m      8\u001b[0m \u001b[0moutputs__\u001b[0m \u001b[0;34m=\u001b[0m \u001b[0mfc3\u001b[0m\u001b[0;34m(\u001b[0m\u001b[0minputs__\u001b[0m\u001b[0;34m)\u001b[0m\u001b[0;34m\u001b[0m\u001b[0;34m\u001b[0m\u001b[0m\n\u001b[1;32m      9\u001b[0m \u001b[0mprint\u001b[0m\u001b[0;34m(\u001b[0m\u001b[0moutputs__\u001b[0m\u001b[0;34m.\u001b[0m\u001b[0mshape\u001b[0m\u001b[0;34m)\u001b[0m\u001b[0;34m\u001b[0m\u001b[0;34m\u001b[0m\u001b[0m\n",
      "\u001b[0;31mNameError\u001b[0m: name 'outputs' is not defined"
     ]
    }
   ],
   "source": [
    "fc3 = nn.Sequential(\n",
    "        nn.Linear(128*28*3+256, 1024),\n",
    "        nn.Linear(1024, 1024),\n",
    "        nn.Linear(1024, 256),\n",
    "    )\n",
    "\n",
    "inputs__ = torch.cat((outputs[0].flatten(), torch.from_numpy(noises_features).flatten()))\n",
    "outputs__ = fc3(inputs__)\n",
    "print(outputs__.shape)\n",
    "print(outputs__)"
   ]
  },
  {
   "cell_type": "code",
   "execution_count": 61,
   "id": "f3e77d56",
   "metadata": {
    "scrolled": true
   },
   "outputs": [],
   "source": [
    "# CNN Network for SNM features 最终版本 219\n",
    "class CNN_SNM(nn.Module):\n",
    "    def __init__(self):\n",
    "        super().__init__()\n",
    "\n",
    "        self.cnn_layers = nn.Sequential(\n",
    "            nn.Conv2d(1, 64, (9,9), stride=(1, 1), padding='same'),\n",
    "            nn.Sigmoid(),\n",
    "            nn.MaxPool2d((3,3), stride=(3,3), ceil_mode=False),\n",
    "            nn.Conv2d(64, 128, (4,4), stride=(1,1), padding='same'),\n",
    "            nn.Sigmoid(),\n",
    "            nn.MaxPool2d((3,3), stride=(3, 3), ceil_mode=False),\n",
    "        )\n",
    "        \n",
    "        self.fc3 = nn.Sequential(\n",
    "            nn.Linear(128*28*3+256, 1024),\n",
    "            nn.Linear(1024, 1024),\n",
    "            nn.Linear(1024, 256),\n",
    "        )\n",
    "\n",
    "    def forward(self, x, noises_features):\n",
    "        result = self.cnn_layers(x)\n",
    "        result = self.fc3(torch.cat((result[0].flatten(), torch.from_numpy(noises_features).flatten())))\n",
    "        return result\n"
   ]
  },
  {
   "cell_type": "code",
   "execution_count": 71,
   "id": "ed520c05",
   "metadata": {},
   "outputs": [
    {
     "name": "stdout",
     "output_type": "stream",
     "text": [
      "96000\n",
      "(513, 601)\n"
     ]
    }
   ],
   "source": [
    "input_data = test_data[0]\n",
    "window, noises_features = extract_features(input_data, 16000)\n",
    "window = window.reshape(-1, 1, 256, 31)\n",
    "net_SNM = CNN_SNM()\n",
    "SNMs = net_SNM(torch.tensor(window), noises_features)\n",
    "# print(SNMs)"
   ]
  },
  {
   "cell_type": "code",
   "execution_count": 81,
   "id": "b187423e",
   "metadata": {},
   "outputs": [
    {
     "name": "stderr",
     "output_type": "stream",
     "text": [
      "<ipython-input-81-e46e003b20b3>:4: RuntimeWarning: invalid value encountered in true_divide\n",
      "  mat_ = mat1/mat2\n"
     ]
    }
   ],
   "source": [
    "mat1 = np.zeros((256, 31))\n",
    "mat2 = np.zeros((256, 31))\n",
    "\n",
    "mat_ = mat1/mat2"
   ]
  }
 ],
 "metadata": {
  "kernelspec": {
   "display_name": "Python 3",
   "language": "python",
   "name": "python3"
  },
  "language_info": {
   "codemirror_mode": {
    "name": "ipython",
    "version": 3
   },
   "file_extension": ".py",
   "mimetype": "text/x-python",
   "name": "python",
   "nbconvert_exporter": "python",
   "pygments_lexer": "ipython3",
   "version": "3.8.8"
  }
 },
 "nbformat": 4,
 "nbformat_minor": 5
}
