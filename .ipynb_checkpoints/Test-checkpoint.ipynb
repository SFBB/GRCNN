{
 "cells": [
  {
   "cell_type": "code",
   "execution_count": 1,
   "id": "cd7774d7",
   "metadata": {},
   "outputs": [],
   "source": [
    "import numpy as np\n",
    "import matplotlib.pyplot as plt\n",
    "import sklearn\n",
    "from scipy import signal\n",
    "import soundfile as sf\n",
    "import os"
   ]
  },
  {
   "cell_type": "code",
   "execution_count": 2,
   "id": "bcfb8155",
   "metadata": {},
   "outputs": [
    {
     "name": "stdout",
     "output_type": "stream",
     "text": [
      "(26, 1, 96000)\n"
     ]
    }
   ],
   "source": [
    "scp = np.loadtxt(\"dev_as_test.lst\", dtype=str)\n",
    "def read_data(path):\n",
    "    speech, _ = sf.read(path)\n",
    "#     print(_)\n",
    "    data = np.reshape(speech, [1, -1])\n",
    "    if data.shape[1] % 96000:\n",
    "        if data.shape[1] * 2 < 96000:\n",
    "            data = np.tile(data, (1, 96000 // data.shape[1]))\n",
    "        data = np.hstack([data, data[:, :96000 - data.shape[1] % 96000]])\n",
    "    data = np.split(data, data.shape[1] / 96000, axis=1)\n",
    "    data = np.array(data, dtype=np.float32)\n",
    "    return data\n",
    "#     print(data.shape)\n",
    "\n",
    "scp = [\"LA_D_1000265.flac\", \"LA_D_3262859.flac\",  \"LA_D_3266246.flac\", \"LA_D_3267906.flac\", \"LA_D_3260017.flac\", \"LA_D_3263334.flac\", \"LA_D_3266332.flac\", \"LA_D_3268182.flac\", \"LA_D_3260123.flac\", \"LA_D_3263579.flac\",  \"LA_D_3266553.flac\", \"LA_D_3268836.flac\", \"LA_D_3260640.flac\", \"LA_D_3263795.flac\", \"LA_D_3266637.flac\", \"LA_D_3269593.flac\", \"LA_D_3260902.flac\", \"LA_D_3264000.flac\", \"LA_D_3266852.flac\", \"LA_D_3261219.flac\", \"LA_D_3264696.flac\", \"LA_D_3267050.flac\", \"LA_D_3262004.flac\", \"LA_D_3264952.flac\", \"LA_D_3267875.flac\"]\n",
    "scp_ = []\n",
    "for scp__ in scp:\n",
    "    scp_.append(os.path.join(\"wav\", scp__))\n",
    "scp = scp_\n",
    "del scp_\n",
    "# print(scp)\n",
    "test_data = []\n",
    "for i in scp:\n",
    "    test_data.append(read_data(i))\n",
    "\n",
    "test_frame_num = len(test_data)\n",
    "test_data = np.concatenate(test_data, axis=0)\n",
    "\n",
    "# test_data, scp as test names, test_frame_num\n",
    "# print(test_data)\n",
    "print(test_data.shape)"
   ]
  },
  {
   "cell_type": "code",
   "execution_count": 3,
   "id": "c3987ea3",
   "metadata": {},
   "outputs": [
    {
     "name": "stdout",
     "output_type": "stream",
     "text": [
      "(240, 2)\n",
      "[1. 0.]\n"
     ]
    }
   ],
   "source": [
    "genuine_labels = np.zeros((120, 2), dtype=np.float32)\n",
    "spoof_labels = np.zeros((120, 2), dtype=np.float32)\n",
    "\n",
    "genuine_labels[:, 0] = 1.0 # [1, 0]\n",
    "spoof_labels[:, 1] = 1.0 # [0, 1]\n",
    "\n",
    "labels = np.concatenate((genuine_labels, spoof_labels), axis=0)\n",
    "\n",
    "print(labels.shape)\n",
    "print(labels[0])"
   ]
  },
  {
   "cell_type": "code",
   "execution_count": 4,
   "id": "6125d881",
   "metadata": {},
   "outputs": [
    {
     "name": "stdout",
     "output_type": "stream",
     "text": [
      "(26, 1, 96000)\n"
     ]
    }
   ],
   "source": [
    "print(test_data.shape)\n",
    "inputs = np.reshape(test_data, [26, 1, 96000]).shape"
   ]
  },
  {
   "cell_type": "code",
   "execution_count": 5,
   "id": "2fd377fb",
   "metadata": {},
   "outputs": [
    {
     "name": "stdout",
     "output_type": "stream",
     "text": [
      "[0. 0. 0. 0. 0. 0. 0. 0. 0. 0.]\n"
     ]
    }
   ],
   "source": [
    "a = np.zeros(10)\n",
    "print(a)"
   ]
  },
  {
   "cell_type": "code",
   "execution_count": 6,
   "id": "f0d77518",
   "metadata": {},
   "outputs": [],
   "source": [
    "import torch"
   ]
  },
  {
   "cell_type": "code",
   "execution_count": 7,
   "id": "b1044170",
   "metadata": {},
   "outputs": [],
   "source": [
    "input = torch.randn(64, 256, 31)"
   ]
  },
  {
   "cell_type": "code",
   "execution_count": 8,
   "id": "6ab4cf34",
   "metadata": {},
   "outputs": [
    {
     "name": "stdout",
     "output_type": "stream",
     "text": [
      "torch.Size([64, 86, 10])\n",
      "torch.Size([64, 86, 10])\n",
      "torch.Size([128, 86, 10])\n"
     ]
    },
    {
     "name": "stderr",
     "output_type": "stream",
     "text": [
      "/home/tomtony/anaconda3/lib/python3.8/site-packages/torch/nn/functional.py:652: UserWarning: Named tensors and all their associated APIs are an experimental feature and subject to change. Please do not use them for anything important until they are released as stable. (Triggered internally at  /pytorch/c10/core/TensorImpl.h:1156.)\n",
      "  return torch.max_pool1d(input, kernel_size, stride, padding, dilation, ceil_mode)\n"
     ]
    }
   ],
   "source": [
    "# print(input.shape)\n",
    "conv1 =  torch.nn.Conv1d(256, 86, 9, stride=2, dilation=2, padding=2)\n",
    "output = conv1(input)\n",
    "print(output.shape)\n",
    "\n",
    "# output = output[:,:,:10]\n",
    "# noise_means = torch.randn(64, 86, 10)\n",
    "# output_l = output[:,:,output.shape[2]-10:]\n",
    "# print(type(output))\n",
    "# output = torch.cat((output, noise_means), 0)\n",
    "print(output.shape)\n",
    "\n",
    "pool1 = torch.nn.MaxPool1d(3, stride=1, dilation=1, padding=1)\n",
    "output = pool1(output)\n",
    "# print(output.shape)\n",
    "output = torch.cat((output, output), 0)\n",
    "print(output.shape)"
   ]
  },
  {
   "cell_type": "code",
   "execution_count": 9,
   "id": "f201f804",
   "metadata": {},
   "outputs": [
    {
     "name": "stdout",
     "output_type": "stream",
     "text": [
      "torch.Size([128, 29, 3])\n",
      "torch.Size([128, 29, 1])\n"
     ]
    }
   ],
   "source": [
    "conv2 = torch.nn.Conv1d(86, 29, 4, stride=2, dilation=2, padding=1)\n",
    "output_ = conv2(output)\n",
    "print(output_.shape)\n",
    "pool2 = torch.nn.MaxPool1d(3,stride=1)\n",
    "output__ = pool2(output_)\n",
    "print(output__.shape)"
   ]
  },
  {
   "cell_type": "code",
   "execution_count": 10,
   "id": "88fa45e9",
   "metadata": {},
   "outputs": [],
   "source": [
    "import torchaudio\n",
    "# import os\n",
    "# # print(os.path.abspath(os.getcwd()))\n",
    "# # waveform, sample_rate = torchaudio.load(\"/mnt/c/Users/YH-ANZHE/D1_1002601.wav\")\n",
    "# waveform = test_data[0]\n",
    "# sample_rate = 16000\n",
    "# print(waveform.shape, sample_rate)\n",
    "# stft_result = torch.stft(waveform[:,10:], sample_rate, win_length=10)\n",
    "# print(stft_result.shape)"
   ]
  },
  {
   "cell_type": "code",
   "execution_count": 48,
   "id": "3ca3409c",
   "metadata": {},
   "outputs": [
    {
     "data": {
      "image/png": "[encoded data removed]",
      "text/plain": [
       "<Figure size 432x288 with 2 Axes>"
      ]
     },
     "metadata": {
      "needs_background": "light"
     },
     "output_type": "display_data"
    }
   ],
   "source": [
    "waveform = test_data[0]\n",
    "sample_rate = 16000\n",
    "import librosa\n",
    "import math\n",
    "\n",
    "\n",
    "def extract_features(waveform, sample_rate):\n",
    "    # print(waveform.numpy())\n",
    "    n_fft = 1024\n",
    "    win_length = int(np.ceil(0.025*sample_rate))\n",
    "    hop_length = int(np.ceil(0.010*sample_rate))\n",
    "    window = \"hamming\"\n",
    "\n",
    "    n_mels = 256\n",
    "    fmin = 20\n",
    "    fmax = 8000\n",
    "    X = librosa.stft(waveform[0], n_fft, hop_length, win_length, window, center=True)\n",
    "    frames = np.log(librosa.feature.melspectrogram(y=waveform[0], sr=sample_rate, S=X, n_mels=n_mels, fmin=fmin, fmax=fmax) + 1e-6)\n",
    "#     print(X.shape)\n",
    "#     print(frames.shape)\n",
    "    window_size = 31\n",
    "    window_hop = 31\n",
    "    start_frame = window_size \n",
    "    end_frame = window_hop * math.floor(float(frames.shape[1]) / window_hop/2)\n",
    "    window = frames[:, end_frame: end_frame+window_size]\n",
    "    \n",
    "    noises_features = np.mean(abs(frames[:, :10]), axis=1)\n",
    "    \n",
    "    return abs(window), noises_features\n",
    "\n",
    "\n",
    "window, noises_features = extract_features(waveform, sample_rate)\n",
    "\n",
    "# window_size = 31\n",
    "# window_hop = 31\n",
    "# start_frame = window_size \n",
    "# end_frame = window_hop * math.floor(float(frames.shape[1]) / window_hop/2)\n",
    "\n",
    "    \n",
    "    \n",
    "import matplotlib.pyplot as plt\n",
    "\n",
    "\n",
    "# inputs = []\n",
    "# window = frames[:, end_frame: end_frame+window_size]\n",
    "# assert window.shape == (n_mels, window_size)\n",
    "# inputs.append(abs(window))\n",
    "plt.imshow(window, cmap='jet', origin='lower', aspect='auto')\n",
    "plt.colorbar()\n",
    "plt.show()\n",
    "\n",
    "\n",
    "# noises = abs(frames[:, :10])\n",
    "# print(noises.shape)\n",
    "# noises_features = np.mean(noises, axis=1)\n",
    "# print(noises_features.shape)\n",
    "# for frame_idx in range(start_frame, end_frame, window_hop):\n",
    "\n",
    "#     window = frames[:, frame_idx-window_size:frame_idx]\n",
    "#     assert window.shape == (n_mels, window_size)\n",
    "#     print('classify window', frame_idx, window.shape)\n",
    "# #     print(window)\n",
    "#     inputs.append(abs(window))\n",
    "#     plt.imshow(abs(window), cmap='jet', origin='lower', aspect='auto')\n",
    "#     plt.colorbar()\n",
    "#     plt.show()"
   ]
  },
  {
   "cell_type": "code",
   "execution_count": 12,
   "id": "37df7e14",
   "metadata": {},
   "outputs": [
    {
     "name": "stdout",
     "output_type": "stream",
     "text": [
      "torch.Size([1, 128, 28, 3])\n"
     ]
    },
    {
     "name": "stderr",
     "output_type": "stream",
     "text": [
      "<ipython-input-12-b640ed646bb6>:19: UserWarning: To copy construct from a tensor, it is recommended to use sourceTensor.clone().detach() or sourceTensor.clone().detach().requires_grad_(True), rather than torch.tensor(sourceTensor).\n",
      "  outputs = cnn_layers(torch.tensor(inputs_))\n",
      "/home/tomtony/anaconda3/lib/python3.8/site-packages/torch/nn/modules/conv.py:439: UserWarning: Using padding='same' with even kernel lengths and odd dilation may require a zero-padded copy of the input be created (Triggered internally at  /pytorch/aten/src/ATen/native/Convolution.cpp:660.)\n",
      "  return F.conv2d(input, weight, bias, self.stride,\n"
     ]
    }
   ],
   "source": [
    "from torch import nn\n",
    "\n",
    "cnn_layers = nn.Sequential(\n",
    "            nn.Conv2d(1, 64, (9,9), stride=(1, 1), padding='same'),\n",
    "            nn.Sigmoid(),\n",
    "            nn.MaxPool2d((3,3), stride=(3,3), ceil_mode=False),\n",
    "            nn.Conv2d(64, 128, (4,4), stride=(1,1), padding='same'),\n",
    "            nn.Sigmoid(),\n",
    "            nn.MaxPool2d((3,3), stride=(3, 3), ceil_mode=False),\n",
    "        )\n",
    "\n",
    "inputs_ = np.array(inputs)\n",
    "inputs_ = inputs_.reshape(-1, 1, 256, 31)\n",
    "# print(inputs_.shape)\n",
    "inputs_ = torch.from_numpy(inputs_)\n",
    "# print(inputs.shape)\n",
    "# inputs = torch.reshape(inputs, (11, 1, 256, -1))\n",
    "# print(torch.FloatTensor(inputs).shape)\n",
    "outputs = cnn_layers(torch.tensor(inputs_))\n",
    "\n",
    "print(outputs.shape)"
   ]
  },
  {
   "cell_type": "code",
   "execution_count": 13,
   "id": "bb35f1f6",
   "metadata": {},
   "outputs": [
    {
     "name": "stdout",
     "output_type": "stream",
     "text": [
      "torch.Size([256])\n",
      "tensor([ 0.0439, -0.1430, -0.1571,  0.3043, -0.3355, -0.0261,  0.3469,  0.7321,\n",
      "         0.4535,  0.2334,  0.0726,  0.0600,  0.0374,  0.6056,  0.1226, -0.0485,\n",
      "         0.3303, -0.2646, -0.1193,  0.3735,  0.1727, -0.1872,  0.2087,  0.5045,\n",
      "        -0.1086, -0.3010, -0.0659,  0.1699, -0.0141, -0.0337, -0.2416, -0.3310,\n",
      "         0.3908,  0.0401, -0.3573,  0.2169,  0.2713,  0.1813, -0.0711, -0.0012,\n",
      "         0.7430, -0.4533, -0.1753, -0.0954,  0.3843,  0.0249, -0.0879,  0.0360,\n",
      "        -0.2728,  0.0255, -0.1470,  0.5138, -0.0823,  0.2652,  0.1371,  0.0839,\n",
      "         0.0108, -0.3091,  0.2478,  0.0957,  0.5448, -0.1300, -0.4644, -0.1898,\n",
      "        -0.4631,  0.3962, -0.0861, -0.5795,  0.0524, -0.0205, -0.1629, -0.1959,\n",
      "         0.4727, -0.1862, -0.2548, -0.8443,  0.2229, -0.1807,  0.2181, -0.1197,\n",
      "        -0.1553, -0.1141,  0.1316,  0.0200, -0.4441, -0.4992, -0.7381, -0.3175,\n",
      "        -0.1843, -0.3848, -0.4789,  0.1380,  0.4420, -0.2430,  0.3545, -0.0469,\n",
      "        -0.3227, -0.7983, -0.7055,  0.0849, -0.2395, -0.4558, -0.0964,  0.0310,\n",
      "        -0.2618, -0.1638,  0.2409, -0.2007,  0.1868,  0.3461, -0.3350,  0.3911,\n",
      "         0.0189,  0.6192, -0.0381,  0.6629,  0.3705, -0.5749,  0.0023, -0.1009,\n",
      "         0.0292, -0.1474,  0.4793,  0.1947,  0.0506, -0.3505,  0.2132, -0.0682,\n",
      "         0.0155, -0.0260,  0.3628, -0.0694,  0.6004, -0.0125, -0.0853,  0.4003,\n",
      "        -0.1619,  0.1505, -0.7637, -0.7179,  0.2512, -0.2967,  0.3132,  0.1477,\n",
      "         0.0202,  0.0994, -0.2248, -0.1536,  0.3375,  0.2372,  0.0941, -0.1980,\n",
      "         0.1359,  0.0602,  0.1710, -0.0948, -0.0599, -0.1557,  0.4558, -0.3943,\n",
      "        -0.1386,  0.4404,  0.2929, -0.0813,  0.2563,  0.4584, -0.4068, -0.0868,\n",
      "        -0.1487, -0.3841,  0.0928, -0.2950,  0.1984,  0.2643, -0.2370,  0.0179,\n",
      "        -0.3335, -0.1670, -0.5038,  0.2482,  0.2639,  0.1192, -0.2269, -0.1303,\n",
      "         0.1954,  0.7715, -0.0284,  0.0982,  0.5811,  0.3667, -0.0722, -0.5574,\n",
      "        -0.7482,  0.1983,  0.3410, -0.1310,  0.5765,  0.4445,  0.1098,  0.0066,\n",
      "         0.3484,  0.1425, -0.2737, -0.3101, -0.4876, -0.3946, -0.7339,  0.2883,\n",
      "         0.1799,  0.6278,  0.2083,  0.0131, -0.8730,  0.6361,  0.2142,  0.1332,\n",
      "         0.0864, -0.8575, -0.0643,  0.2017, -0.2569, -0.3366,  0.1692, -0.3076,\n",
      "         0.2083, -0.0910,  1.1498, -0.2181, -0.3733, -0.4647,  0.2135,  0.4586,\n",
      "        -0.5345,  0.0074, -0.2742, -0.3318, -0.1018, -0.5771, -0.1878,  0.2800,\n",
      "        -0.2139,  0.3047, -0.1677,  0.1045,  0.1444, -0.1255, -0.1327, -0.0052,\n",
      "         0.2307,  0.3374,  0.0735,  0.3140, -0.1630,  0.0138, -0.0470, -0.3512],\n",
      "       grad_fn=<AddBackward0>)\n"
     ]
    }
   ],
   "source": [
    "fc3 = nn.Sequential(\n",
    "        nn.Linear(128*28*3+256, 1024),\n",
    "        nn.Linear(1024, 1024),\n",
    "        nn.Linear(1024, 256),\n",
    "    )\n",
    "\n",
    "inputs__ = torch.cat((outputs[0].flatten(), torch.from_numpy(noises_features).flatten()))\n",
    "outputs__ = fc3(inputs__)\n",
    "print(outputs__.shape)\n",
    "print(outputs__)"
   ]
  },
  {
   "cell_type": "code",
   "execution_count": 41,
   "id": "f3e77d56",
   "metadata": {
    "scrolled": true
   },
   "outputs": [],
   "source": [
    "# CNN Network for SNM features 最终版本 219\n",
    "class CNN_SNM(nn.Module):\n",
    "    def __init__(self):\n",
    "        super().__init__()\n",
    "\n",
    "        self.cnn_layers = nn.Sequential(\n",
    "            nn.Conv2d(1, 64, (9,9), stride=(1, 1), padding='same'),\n",
    "            nn.Sigmoid(),\n",
    "            nn.MaxPool2d((3,3), stride=(3,3), ceil_mode=False),\n",
    "            nn.Conv2d(64, 128, (4,4), stride=(1,1), padding='same'),\n",
    "            nn.Sigmoid(),\n",
    "            nn.MaxPool2d((3,3), stride=(3, 3), ceil_mode=False),\n",
    "        )\n",
    "        \n",
    "        self.fc3 = nn.Sequential(\n",
    "            nn.Linear(128*28*3+256, 1024),\n",
    "            nn.Linear(1024, 1024),\n",
    "            nn.Linear(1024, 256),\n",
    "        )\n",
    "\n",
    "    def forward(self, x, noises_features):\n",
    "        result = self.cnn_layers(x)\n",
    "        result = self.fc3(torch.cat((result[0].flatten(), torch.from_numpy(noises_features).flatten())))\n",
    "        return result\n"
   ]
  },
  {
   "cell_type": "code",
   "execution_count": 49,
   "id": "34af9684",
   "metadata": {},
   "outputs": [
    {
     "name": "stdout",
     "output_type": "stream",
     "text": [
      "torch.Size([256])\n"
     ]
    }
   ],
   "source": [
    "input_data = test_data[0]\n",
    "window, noises_features = extract_features(input_data, 16000)\n",
    "window = window.reshape(-1, 1, 256, 31)\n",
    "net_SNM = CNN_SNM()\n",
    "SNMs = net_SNM(torch.tensor(window), noises_features)\n",
    "print(SNMs.shape)"
   ]
  }
 ],
 "metadata": {
  "kernelspec": {
   "display_name": "Python 3",
   "language": "python",
   "name": "python3"
  },
  "language_info": {
   "codemirror_mode": {
    "name": "ipython",
    "version": 3
   },
   "file_extension": ".py",
   "mimetype": "text/x-python",
   "name": "python",
   "nbconvert_exporter": "python",
   "pygments_lexer": "ipython3",
   "version": "3.8.8"
  }
 },
 "nbformat": 4,
 "nbformat_minor": 5
}
